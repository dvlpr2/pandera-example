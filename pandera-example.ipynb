{
 "cells": [
  {
   "cell_type": "markdown",
   "metadata": {},
   "source": [
    "# Pandera\n",
    "\n",
    "[Pandera](https://pandera.readthedocs.io/en/stable/index.html) is an Open-source Framework for Data Validation\n",
    "\n",
    "This notebook shows a brief example\n"
   ]
  },
  {
   "cell_type": "code",
   "execution_count": 1,
   "metadata": {},
   "outputs": [],
   "source": [
    "import pandas as pd\n",
    "import pandera as pa\n",
    "from pandera.engines import pandas_engine"
   ]
  },
  {
   "cell_type": "markdown",
   "metadata": {},
   "source": [
    "## I. Get the data from CSV \n",
    "\n",
    "The data consist of 3 tables:\n",
    " - **super_regions**\n",
    " - **regions** : which are subdivisions of super_regions\n",
    " - **power_load** : electric power load for a given date and given region"
   ]
  },
  {
   "cell_type": "markdown",
   "metadata": {},
   "source": [
    "### I.1 Helper \"get\" functions "
   ]
  },
  {
   "cell_type": "code",
   "execution_count": 2,
   "metadata": {},
   "outputs": [],
   "source": [
    "def get_super_regions():\n",
    "    return pd.read_csv('data/super_regions.csv', dtype={'super_region': 'string'}, sep = ',')\n",
    "\n",
    "def get_regions():\n",
    "    return pd.read_csv('data/regions.csv', dtype={'super_region': 'string', 'region': 'string'}, sep = ',')\n",
    "\n",
    "def get_power_load():\n",
    "    return pd.read_csv('data/power_load.csv', dtype={'region': 'string', 'load': 'float64'}, sep = ',', parse_dates=['date'])"
   ]
  },
  {
   "cell_type": "markdown",
   "metadata": {},
   "source": [
    "### I.2 Get the data\n",
    "\n",
    "#### I.2.a Super Regions"
   ]
  },
  {
   "cell_type": "code",
   "execution_count": 3,
   "metadata": {},
   "outputs": [
    {
     "data": {
      "text/html": [
       "<div>\n",
       "<style scoped>\n",
       "    .dataframe tbody tr th:only-of-type {\n",
       "        vertical-align: middle;\n",
       "    }\n",
       "\n",
       "    .dataframe tbody tr th {\n",
       "        vertical-align: top;\n",
       "    }\n",
       "\n",
       "    .dataframe thead th {\n",
       "        text-align: right;\n",
       "    }\n",
       "</style>\n",
       "<table border=\"1\" class=\"dataframe\">\n",
       "  <thead>\n",
       "    <tr style=\"text-align: right;\">\n",
       "      <th></th>\n",
       "      <th>super_region</th>\n",
       "    </tr>\n",
       "  </thead>\n",
       "  <tbody>\n",
       "    <tr>\n",
       "      <th>0</th>\n",
       "      <td>Upstate</td>\n",
       "    </tr>\n",
       "    <tr>\n",
       "      <th>1</th>\n",
       "      <td>Downstate</td>\n",
       "    </tr>\n",
       "  </tbody>\n",
       "</table>\n",
       "</div>"
      ],
      "text/plain": [
       "  super_region\n",
       "0      Upstate\n",
       "1    Downstate"
      ]
     },
     "execution_count": 3,
     "metadata": {},
     "output_type": "execute_result"
    }
   ],
   "source": [
    "super_regions = get_super_regions()\n",
    "super_regions.head()"
   ]
  },
  {
   "cell_type": "markdown",
   "metadata": {},
   "source": [
    "#### I.2.b Regions"
   ]
  },
  {
   "cell_type": "code",
   "execution_count": 4,
   "metadata": {},
   "outputs": [
    {
     "data": {
      "text/html": [
       "<div>\n",
       "<style scoped>\n",
       "    .dataframe tbody tr th:only-of-type {\n",
       "        vertical-align: middle;\n",
       "    }\n",
       "\n",
       "    .dataframe tbody tr th {\n",
       "        vertical-align: top;\n",
       "    }\n",
       "\n",
       "    .dataframe thead th {\n",
       "        text-align: right;\n",
       "    }\n",
       "</style>\n",
       "<table border=\"1\" class=\"dataframe\">\n",
       "  <thead>\n",
       "    <tr style=\"text-align: right;\">\n",
       "      <th></th>\n",
       "      <th>region</th>\n",
       "      <th>super_region</th>\n",
       "    </tr>\n",
       "  </thead>\n",
       "  <tbody>\n",
       "    <tr>\n",
       "      <th>0</th>\n",
       "      <td>Capital</td>\n",
       "      <td>Upstate</td>\n",
       "    </tr>\n",
       "    <tr>\n",
       "      <th>1</th>\n",
       "      <td>Central</td>\n",
       "      <td>Upstate</td>\n",
       "    </tr>\n",
       "    <tr>\n",
       "      <th>2</th>\n",
       "      <td>Dunwoodie</td>\n",
       "      <td>Upstate</td>\n",
       "    </tr>\n",
       "    <tr>\n",
       "      <th>3</th>\n",
       "      <td>Genesee</td>\n",
       "      <td>Upstate</td>\n",
       "    </tr>\n",
       "    <tr>\n",
       "      <th>4</th>\n",
       "      <td>Hudson Valley</td>\n",
       "      <td>Downstate</td>\n",
       "    </tr>\n",
       "  </tbody>\n",
       "</table>\n",
       "</div>"
      ],
      "text/plain": [
       "          region super_region\n",
       "0        Capital      Upstate\n",
       "1        Central      Upstate\n",
       "2      Dunwoodie      Upstate\n",
       "3        Genesee      Upstate\n",
       "4  Hudson Valley    Downstate"
      ]
     },
     "execution_count": 4,
     "metadata": {},
     "output_type": "execute_result"
    }
   ],
   "source": [
    "regions = get_regions()\n",
    "regions.head()"
   ]
  },
  {
   "cell_type": "code",
   "execution_count": null,
   "metadata": {},
   "outputs": [],
   "source": []
  },
  {
   "cell_type": "code",
   "execution_count": 5,
   "metadata": {},
   "outputs": [
    {
     "data": {
      "text/html": [
       "<div>\n",
       "<style scoped>\n",
       "    .dataframe tbody tr th:only-of-type {\n",
       "        vertical-align: middle;\n",
       "    }\n",
       "\n",
       "    .dataframe tbody tr th {\n",
       "        vertical-align: top;\n",
       "    }\n",
       "\n",
       "    .dataframe thead th {\n",
       "        text-align: right;\n",
       "    }\n",
       "</style>\n",
       "<table border=\"1\" class=\"dataframe\">\n",
       "  <thead>\n",
       "    <tr style=\"text-align: right;\">\n",
       "      <th></th>\n",
       "      <th>region</th>\n",
       "      <th>date</th>\n",
       "      <th>load</th>\n",
       "    </tr>\n",
       "  </thead>\n",
       "  <tbody>\n",
       "    <tr>\n",
       "      <th>0</th>\n",
       "      <td>Capital</td>\n",
       "      <td>2018-06-20</td>\n",
       "      <td>1495.583333</td>\n",
       "    </tr>\n",
       "    <tr>\n",
       "      <th>1</th>\n",
       "      <td>Capital</td>\n",
       "      <td>2018-06-21</td>\n",
       "      <td>1470.291667</td>\n",
       "    </tr>\n",
       "    <tr>\n",
       "      <th>2</th>\n",
       "      <td>Capital</td>\n",
       "      <td>2018-06-22</td>\n",
       "      <td>1422.458333</td>\n",
       "    </tr>\n",
       "    <tr>\n",
       "      <th>3</th>\n",
       "      <td>Capital</td>\n",
       "      <td>2018-06-23</td>\n",
       "      <td>1357.291667</td>\n",
       "    </tr>\n",
       "    <tr>\n",
       "      <th>4</th>\n",
       "      <td>Capital</td>\n",
       "      <td>2018-06-24</td>\n",
       "      <td>1301.416667</td>\n",
       "    </tr>\n",
       "  </tbody>\n",
       "</table>\n",
       "</div>"
      ],
      "text/plain": [
       "    region       date         load\n",
       "0  Capital 2018-06-20  1495.583333\n",
       "1  Capital 2018-06-21  1470.291667\n",
       "2  Capital 2018-06-22  1422.458333\n",
       "3  Capital 2018-06-23  1357.291667\n",
       "4  Capital 2018-06-24  1301.416667"
      ]
     },
     "execution_count": 5,
     "metadata": {},
     "output_type": "execute_result"
    }
   ],
   "source": [
    "power_load = get_power_load()\n",
    "power_load.head()"
   ]
  },
  {
   "cell_type": "markdown",
   "metadata": {},
   "source": [
    "### I.3 Show the CSV data structures\n",
    "\n",
    "#### I.2.a Super Regions"
   ]
  },
  {
   "cell_type": "code",
   "execution_count": 6,
   "metadata": {},
   "outputs": [
    {
     "name": "stdout",
     "output_type": "stream",
     "text": [
      "<class 'pandas.core.frame.DataFrame'>\n",
      "RangeIndex: 2 entries, 0 to 1\n",
      "Data columns (total 1 columns):\n",
      " #   Column        Non-Null Count  Dtype \n",
      "---  ------        --------------  ----- \n",
      " 0   super_region  2 non-null      string\n",
      "dtypes: string(1)\n",
      "memory usage: 148.0 bytes\n"
     ]
    }
   ],
   "source": [
    "super_regions.info()"
   ]
  },
  {
   "cell_type": "markdown",
   "metadata": {},
   "source": [
    "#### I.2.b Regions"
   ]
  },
  {
   "cell_type": "code",
   "execution_count": 7,
   "metadata": {},
   "outputs": [
    {
     "name": "stdout",
     "output_type": "stream",
     "text": [
      "<class 'pandas.core.frame.DataFrame'>\n",
      "RangeIndex: 11 entries, 0 to 10\n",
      "Data columns (total 2 columns):\n",
      " #   Column        Non-Null Count  Dtype \n",
      "---  ------        --------------  ----- \n",
      " 0   region        11 non-null     string\n",
      " 1   super_region  11 non-null     string\n",
      "dtypes: string(2)\n",
      "memory usage: 308.0 bytes\n"
     ]
    }
   ],
   "source": [
    "regions.info()"
   ]
  },
  {
   "cell_type": "markdown",
   "metadata": {},
   "source": [
    "#### I.2.c Power Load"
   ]
  },
  {
   "cell_type": "code",
   "execution_count": 8,
   "metadata": {},
   "outputs": [
    {
     "name": "stdout",
     "output_type": "stream",
     "text": [
      "<class 'pandas.core.frame.DataFrame'>\n",
      "RangeIndex: 18216 entries, 0 to 18215\n",
      "Data columns (total 3 columns):\n",
      " #   Column  Non-Null Count  Dtype         \n",
      "---  ------  --------------  -----         \n",
      " 0   region  18216 non-null  string        \n",
      " 1   date    18216 non-null  datetime64[ns]\n",
      " 2   load    17818 non-null  float64       \n",
      "dtypes: datetime64[ns](1), float64(1), string(1)\n",
      "memory usage: 427.1 KB\n"
     ]
    }
   ],
   "source": [
    "power_load.info()"
   ]
  },
  {
   "cell_type": "markdown",
   "metadata": {},
   "source": [
    "## II. Validating data\n",
    "\n",
    "### II.1 Method #1 : DataFrame Schemas\n",
    "\n",
    "_\"The DataFrameSchema class enables the specification of a schema that verifies the columns and index of a pandas DataFrame object.\"_"
   ]
  },
  {
   "cell_type": "markdown",
   "metadata": {},
   "source": [
    "#### II.1.a Set up the schemas & create an example"
   ]
  },
  {
   "cell_type": "code",
   "execution_count": 9,
   "metadata": {},
   "outputs": [
    {
     "data": {
      "text/html": [
       "<div>\n",
       "<style scoped>\n",
       "    .dataframe tbody tr th:only-of-type {\n",
       "        vertical-align: middle;\n",
       "    }\n",
       "\n",
       "    .dataframe tbody tr th {\n",
       "        vertical-align: top;\n",
       "    }\n",
       "\n",
       "    .dataframe thead th {\n",
       "        text-align: right;\n",
       "    }\n",
       "</style>\n",
       "<table border=\"1\" class=\"dataframe\">\n",
       "  <thead>\n",
       "    <tr style=\"text-align: right;\">\n",
       "      <th></th>\n",
       "      <th>super_region</th>\n",
       "    </tr>\n",
       "  </thead>\n",
       "  <tbody>\n",
       "    <tr>\n",
       "      <th>0</th>\n",
       "      <td>`T񦞨ý</td>\n",
       "    </tr>\n",
       "  </tbody>\n",
       "</table>\n",
       "</div>"
      ],
      "text/plain": [
       "  super_region\n",
       "0        `T񦞨ý"
      ]
     },
     "execution_count": 9,
     "metadata": {},
     "output_type": "execute_result"
    }
   ],
   "source": [
    "super_regions_schema = pa.DataFrameSchema(\n",
    "    {\n",
    "        \"super_region\": pa.Column(str, nullable=False),\n",
    "    },\n",
    "    unique=[\"super_region\"],\n",
    "    strict=True,\n",
    ")\n",
    "super_regions_schema.example(size=1)"
   ]
  },
  {
   "cell_type": "code",
   "execution_count": 10,
   "metadata": {},
   "outputs": [
    {
     "data": {
      "text/html": [
       "<div>\n",
       "<style scoped>\n",
       "    .dataframe tbody tr th:only-of-type {\n",
       "        vertical-align: middle;\n",
       "    }\n",
       "\n",
       "    .dataframe tbody tr th {\n",
       "        vertical-align: top;\n",
       "    }\n",
       "\n",
       "    .dataframe thead th {\n",
       "        text-align: right;\n",
       "    }\n",
       "</style>\n",
       "<table border=\"1\" class=\"dataframe\">\n",
       "  <thead>\n",
       "    <tr style=\"text-align: right;\">\n",
       "      <th></th>\n",
       "      <th>region</th>\n",
       "      <th>super_region</th>\n",
       "    </tr>\n",
       "  </thead>\n",
       "  <tbody>\n",
       "    <tr>\n",
       "      <th>0</th>\n",
       "      <td>򥼾󘤳燎¾񞠼f\\t\u0002</td>\n",
       "      <td>򥼾󘤳燎¾񞠼f\\t\u0002</td>\n",
       "    </tr>\n",
       "  </tbody>\n",
       "</table>\n",
       "</div>"
      ],
      "text/plain": [
       "       region super_region\n",
       "0  򥼾󘤳燎¾񞠼f\\t\u0002   򥼾󘤳燎¾񞠼f\\t\u0002"
      ]
     },
     "execution_count": 10,
     "metadata": {},
     "output_type": "execute_result"
    }
   ],
   "source": [
    "regions_schema = pa.DataFrameSchema(\n",
    "    {\n",
    "        \"region\": pa.Column(str, nullable=False),\n",
    "        \"super_region\": pa.Column(str, nullable=False),\n",
    "    },\n",
    "    unique=[\"region\", \"super_region\"],\n",
    "    strict=True,\n",
    ")\n",
    "regions_schema.example(size=1)"
   ]
  },
  {
   "cell_type": "code",
   "execution_count": 11,
   "metadata": {},
   "outputs": [
    {
     "data": {
      "text/html": [
       "<div>\n",
       "<style scoped>\n",
       "    .dataframe tbody tr th:only-of-type {\n",
       "        vertical-align: middle;\n",
       "    }\n",
       "\n",
       "    .dataframe tbody tr th {\n",
       "        vertical-align: top;\n",
       "    }\n",
       "\n",
       "    .dataframe thead th {\n",
       "        text-align: right;\n",
       "    }\n",
       "</style>\n",
       "<table border=\"1\" class=\"dataframe\">\n",
       "  <thead>\n",
       "    <tr style=\"text-align: right;\">\n",
       "      <th></th>\n",
       "      <th>region</th>\n",
       "      <th>date</th>\n",
       "      <th>load</th>\n",
       "    </tr>\n",
       "  </thead>\n",
       "  <tbody>\n",
       "    <tr>\n",
       "      <th>0</th>\n",
       "      <td></td>\n",
       "      <td>1970-01-01 00:00:00.000000011</td>\n",
       "      <td>4.940656e-324</td>\n",
       "    </tr>\n",
       "  </tbody>\n",
       "</table>\n",
       "</div>"
      ],
      "text/plain": [
       "  region                          date           load\n",
       "0        1970-01-01 00:00:00.000000011  4.940656e-324"
      ]
     },
     "execution_count": 11,
     "metadata": {},
     "output_type": "execute_result"
    }
   ],
   "source": [
    "power_load_schema = pa.DataFrameSchema(\n",
    "    {\n",
    "        \"region\": pa.Column(str, nullable=False),\n",
    "#        \"date\": pa.Column(\"datetime64\", nullable=False),\n",
    "        \"date\": pa.Column(pandas_engine.DateTime(to_datetime_kwargs = {\"format\":\"%Y/%m/%d\"}), nullable=False),\n",
    "        \"load\": pa.Column(float, checks=pa.Check.gt(0), nullable=False),\n",
    "    },\n",
    "    unique=[\"region\", \"date\"],\n",
    "    strict=True,\n",
    ")\n",
    "power_load_schema.example(size=1)\n"
   ]
  },
  {
   "cell_type": "markdown",
   "metadata": {},
   "source": [
    "#### II.1.b Create a validation helper function"
   ]
  },
  {
   "cell_type": "code",
   "execution_count": 12,
   "metadata": {},
   "outputs": [],
   "source": [
    "def validate_schema(df: pd.DataFrame, df_schema: pa.DataFrameSchema, msg: str) -> pd.DataFrame:\n",
    "    try:\n",
    "        print(msg, '...', sep='')\n",
    "        validated_df = df_schema.validate(df)\n",
    "        print(msg, '...OK', sep='')\n",
    "        return(validated_df)\n",
    "    except pa.errors.SchemaError as e:\n",
    "        print(msg, '...FAILED =>', sep='')\n",
    "        print(\"****************************************\")\n",
    "        print(e)\n",
    "        print(\"****************************************\")"
   ]
  },
  {
   "cell_type": "markdown",
   "metadata": {},
   "source": [
    "#### II.1.c Validate the data"
   ]
  },
  {
   "cell_type": "code",
   "execution_count": 13,
   "metadata": {},
   "outputs": [
    {
     "name": "stdout",
     "output_type": "stream",
     "text": [
      "Validating super_regions...\n",
      "Validating super_regions...OK\n"
     ]
    },
    {
     "data": {
      "text/html": [
       "<div>\n",
       "<style scoped>\n",
       "    .dataframe tbody tr th:only-of-type {\n",
       "        vertical-align: middle;\n",
       "    }\n",
       "\n",
       "    .dataframe tbody tr th {\n",
       "        vertical-align: top;\n",
       "    }\n",
       "\n",
       "    .dataframe thead th {\n",
       "        text-align: right;\n",
       "    }\n",
       "</style>\n",
       "<table border=\"1\" class=\"dataframe\">\n",
       "  <thead>\n",
       "    <tr style=\"text-align: right;\">\n",
       "      <th></th>\n",
       "      <th>super_region</th>\n",
       "    </tr>\n",
       "  </thead>\n",
       "  <tbody>\n",
       "    <tr>\n",
       "      <th>0</th>\n",
       "      <td>Upstate</td>\n",
       "    </tr>\n",
       "    <tr>\n",
       "      <th>1</th>\n",
       "      <td>Downstate</td>\n",
       "    </tr>\n",
       "  </tbody>\n",
       "</table>\n",
       "</div>"
      ],
      "text/plain": [
       "  super_region\n",
       "0      Upstate\n",
       "1    Downstate"
      ]
     },
     "execution_count": 13,
     "metadata": {},
     "output_type": "execute_result"
    }
   ],
   "source": [
    "validated_super_regions = validate_schema(super_regions, super_regions_schema, \"Validating super_regions\")\n",
    "validated_super_regions.head()"
   ]
  },
  {
   "cell_type": "code",
   "execution_count": 14,
   "metadata": {},
   "outputs": [
    {
     "name": "stdout",
     "output_type": "stream",
     "text": [
      "Validating regions...\n",
      "Validating regions...OK\n"
     ]
    },
    {
     "data": {
      "text/html": [
       "<div>\n",
       "<style scoped>\n",
       "    .dataframe tbody tr th:only-of-type {\n",
       "        vertical-align: middle;\n",
       "    }\n",
       "\n",
       "    .dataframe tbody tr th {\n",
       "        vertical-align: top;\n",
       "    }\n",
       "\n",
       "    .dataframe thead th {\n",
       "        text-align: right;\n",
       "    }\n",
       "</style>\n",
       "<table border=\"1\" class=\"dataframe\">\n",
       "  <thead>\n",
       "    <tr style=\"text-align: right;\">\n",
       "      <th></th>\n",
       "      <th>region</th>\n",
       "      <th>super_region</th>\n",
       "    </tr>\n",
       "  </thead>\n",
       "  <tbody>\n",
       "    <tr>\n",
       "      <th>0</th>\n",
       "      <td>Capital</td>\n",
       "      <td>Upstate</td>\n",
       "    </tr>\n",
       "    <tr>\n",
       "      <th>1</th>\n",
       "      <td>Central</td>\n",
       "      <td>Upstate</td>\n",
       "    </tr>\n",
       "    <tr>\n",
       "      <th>2</th>\n",
       "      <td>Dunwoodie</td>\n",
       "      <td>Upstate</td>\n",
       "    </tr>\n",
       "    <tr>\n",
       "      <th>3</th>\n",
       "      <td>Genesee</td>\n",
       "      <td>Upstate</td>\n",
       "    </tr>\n",
       "    <tr>\n",
       "      <th>4</th>\n",
       "      <td>Hudson Valley</td>\n",
       "      <td>Downstate</td>\n",
       "    </tr>\n",
       "  </tbody>\n",
       "</table>\n",
       "</div>"
      ],
      "text/plain": [
       "          region super_region\n",
       "0        Capital      Upstate\n",
       "1        Central      Upstate\n",
       "2      Dunwoodie      Upstate\n",
       "3        Genesee      Upstate\n",
       "4  Hudson Valley    Downstate"
      ]
     },
     "execution_count": 14,
     "metadata": {},
     "output_type": "execute_result"
    }
   ],
   "source": [
    "\n",
    "validated_regions = validate_schema(regions, regions_schema, \"Validating regions\")\n",
    "validated_regions.head()"
   ]
  },
  {
   "cell_type": "code",
   "execution_count": 15,
   "metadata": {},
   "outputs": [
    {
     "name": "stdout",
     "output_type": "stream",
     "text": [
      "Validating power_load...\n",
      "Validating power_load...FAILED =>\n",
      "****************************************\n",
      "non-nullable series 'load' contains null values:\n",
      "41      NaN\n",
      "47      NaN\n",
      "75      NaN\n",
      "132     NaN\n",
      "223     NaN\n",
      "         ..\n",
      "17373   NaN\n",
      "17486   NaN\n",
      "17631   NaN\n",
      "17843   NaN\n",
      "18211   NaN\n",
      "Name: load, Length: 398, dtype: float64\n",
      "****************************************\n"
     ]
    }
   ],
   "source": [
    "# print(power_load[(power_load['region'] == 'Capital') & (power_load['date'] == '2018/07/31')])\n",
    "# power_load.loc[(power_load['region'] == 'Capital') & (power_load['date'] == '2018/07/31'), 'load'] = np.nan\n",
    "# print(power_load[(power_load['region'] == 'Capital') & (power_load['date'] == '2018/07/31')])\n",
    "\n",
    "validated_power_load = validate_schema(power_load, power_load_schema, \"Validating power_load\")"
   ]
  },
  {
   "cell_type": "markdown",
   "metadata": {},
   "source": [
    "The power_load validation **fails** due to missing load values.  \n",
    "\n",
    "Remove the NAs and re-validate."
   ]
  },
  {
   "cell_type": "code",
   "execution_count": 16,
   "metadata": {},
   "outputs": [
    {
     "name": "stdout",
     "output_type": "stream",
     "text": [
      "Validating power_load_no_NAs...\n",
      "Validating power_load_no_NAs...FAILED =>\n",
      "****************************************\n",
      "Column 'load' failed element-wise validator number 0: greater_than(0) failure cases: -10953.3650572372, -18691.4685346976, -20877.2361447536, -24327.9417834871, -8131.50693110981, -14596.6955819775, -4068.32223664545, -9312.78214695918, -14656.4075716635, -5426.63989076665, -1728.57859662086, -13960.6625610962, -1652.15154619529, -3364.33682026991, -2143.82004485823, -8601.85849590299, -7848.73712505549, -2399.54324270216, -3805.30752932024, -1848.30533380647, -2976.88738208294, -11216.5685038337, -407.73131766232, -7785.16881659046, -2586.8434567858, -784.655206493677, -6015.13141964274, -6310.4687102185, -2286.80814656715, -26010.7894310697, -11099.8920933817, -13017.9062438803\n",
      "****************************************\n"
     ]
    }
   ],
   "source": [
    "power_load_no_NAs = power_load[(power_load['load'].notna())]\n",
    "validated_power_load = validate_schema(power_load_no_NAs, power_load_schema, \"Validating power_load_no_NAs\")"
   ]
  },
  {
   "cell_type": "markdown",
   "metadata": {},
   "source": [
    "The power_load validation still **fails** due to negative load values: a power_load cannot be negative or null.  \n",
    "\n",
    "Remove the negative values & re-validate."
   ]
  },
  {
   "cell_type": "code",
   "execution_count": 17,
   "metadata": {},
   "outputs": [
    {
     "name": "stdout",
     "output_type": "stream",
     "text": [
      "Validating power_load_no_NAs_no_negatives...\n",
      "Validating power_load_no_NAs_no_negatives...OK\n"
     ]
    }
   ],
   "source": [
    "power_load_no_NAs_no_negatives = power_load_no_NAs[(power_load_no_NAs['load'] > 0)]\n",
    "validated_power_load = validate_schema(power_load_no_NAs_no_negatives, power_load_schema, \"Validating power_load_no_NAs_no_negatives\")"
   ]
  },
  {
   "cell_type": "markdown",
   "metadata": {},
   "source": [
    "### II.2 Method #2 : DataFrame Model\n",
    "\n",
    "_\"pandera also provides an alternative API for expressing schemas inspired by dataclasses and pydantic.\"_  \n",
    "_\"pandera provides a class-based API that’s heavily inspired by pydantic. In contrast to the object-based API, you can define dataframe models in much the same way you’d define pydantic models.\"_  \n",
    "_\"DataFrameModel s are annotated with the pandera.typing module using the standard typing syntax. Models can be explicitly converted to a DataFrameSchema or used to validate a DataFrame directly.\"_"
   ]
  },
  {
   "cell_type": "markdown",
   "metadata": {},
   "source": [
    "#### II.2.a : Create the data models & an example"
   ]
  },
  {
   "cell_type": "code",
   "execution_count": 18,
   "metadata": {},
   "outputs": [
    {
     "data": {
      "text/html": [
       "<div>\n",
       "<style scoped>\n",
       "    .dataframe tbody tr th:only-of-type {\n",
       "        vertical-align: middle;\n",
       "    }\n",
       "\n",
       "    .dataframe tbody tr th {\n",
       "        vertical-align: top;\n",
       "    }\n",
       "\n",
       "    .dataframe thead th {\n",
       "        text-align: right;\n",
       "    }\n",
       "</style>\n",
       "<table border=\"1\" class=\"dataframe\">\n",
       "  <thead>\n",
       "    <tr style=\"text-align: right;\">\n",
       "      <th></th>\n",
       "      <th>super_region</th>\n",
       "    </tr>\n",
       "  </thead>\n",
       "  <tbody>\n",
       "    <tr>\n",
       "      <th>0</th>\n",
       "      <td>&lt;\u0015&amp;</td>\n",
       "    </tr>\n",
       "  </tbody>\n",
       "</table>\n",
       "</div>"
      ],
      "text/plain": [
       "  super_region\n",
       "0          <\u0015&"
      ]
     },
     "execution_count": 18,
     "metadata": {},
     "output_type": "execute_result"
    }
   ],
   "source": [
    "class SuperRegionsDataFrameModel(pa.DataFrameModel):\n",
    "    super_region: str = pa.Field(nullable=False)\n",
    "\n",
    "SuperRegionsDataFrameModel.example(size=1)"
   ]
  },
  {
   "cell_type": "code",
   "execution_count": 19,
   "metadata": {},
   "outputs": [
    {
     "data": {
      "text/html": [
       "<div>\n",
       "<style scoped>\n",
       "    .dataframe tbody tr th:only-of-type {\n",
       "        vertical-align: middle;\n",
       "    }\n",
       "\n",
       "    .dataframe tbody tr th {\n",
       "        vertical-align: top;\n",
       "    }\n",
       "\n",
       "    .dataframe thead th {\n",
       "        text-align: right;\n",
       "    }\n",
       "</style>\n",
       "<table border=\"1\" class=\"dataframe\">\n",
       "  <thead>\n",
       "    <tr style=\"text-align: right;\">\n",
       "      <th></th>\n",
       "      <th>super_region</th>\n",
       "      <th>region</th>\n",
       "    </tr>\n",
       "  </thead>\n",
       "  <tbody>\n",
       "    <tr>\n",
       "      <th>0</th>\n",
       "      <td>\u00038</td>\n",
       "      <td>\u00038</td>\n",
       "    </tr>\n",
       "  </tbody>\n",
       "</table>\n",
       "</div>"
      ],
      "text/plain": [
       "  super_region region\n",
       "0           \u00038     \u00038"
      ]
     },
     "execution_count": 19,
     "metadata": {},
     "output_type": "execute_result"
    }
   ],
   "source": [
    "class RegionsDataFrameModel(pa.DataFrameModel):\n",
    "    super_region: str = pa.Field(nullable=False)\n",
    "    region: str = pa.Field(nullable=False)\n",
    "\n",
    "RegionsDataFrameModel.example(size=1)"
   ]
  },
  {
   "cell_type": "code",
   "execution_count": 20,
   "metadata": {},
   "outputs": [
    {
     "data": {
      "text/html": [
       "<div>\n",
       "<style scoped>\n",
       "    .dataframe tbody tr th:only-of-type {\n",
       "        vertical-align: middle;\n",
       "    }\n",
       "\n",
       "    .dataframe tbody tr th {\n",
       "        vertical-align: top;\n",
       "    }\n",
       "\n",
       "    .dataframe thead th {\n",
       "        text-align: right;\n",
       "    }\n",
       "</style>\n",
       "<table border=\"1\" class=\"dataframe\">\n",
       "  <thead>\n",
       "    <tr style=\"text-align: right;\">\n",
       "      <th></th>\n",
       "      <th>region</th>\n",
       "      <th>date</th>\n",
       "      <th>load</th>\n",
       "    </tr>\n",
       "  </thead>\n",
       "  <tbody>\n",
       "    <tr>\n",
       "      <th>0</th>\n",
       "      <td>Å¯</td>\n",
       "      <td>1969-12-31 23:59:59.999937938</td>\n",
       "      <td>1.175494e-38</td>\n",
       "    </tr>\n",
       "  </tbody>\n",
       "</table>\n",
       "</div>"
      ],
      "text/plain": [
       "  region                          date          load\n",
       "0     Å¯ 1969-12-31 23:59:59.999937938  1.175494e-38"
      ]
     },
     "execution_count": 20,
     "metadata": {},
     "output_type": "execute_result"
    }
   ],
   "source": [
    "class PowerLoadDataFrameModel(pa.DataFrameModel):\n",
    "        region: str = pa.Field(nullable=False)\n",
    "        date: pandas_engine.DateTime(to_datetime_kwargs = {\"format\":\"%Y/%m/%d\"}) = pa.Field(nullable=False)\n",
    "        load: float  = pa.Field(gt=0, nullable=False)\n",
    "\n",
    "PowerLoadDataFrameModel.example(size=1)"
   ]
  },
  {
   "cell_type": "markdown",
   "metadata": {},
   "source": [
    "#### II.2.b Create a validation helper function"
   ]
  },
  {
   "cell_type": "code",
   "execution_count": 21,
   "metadata": {},
   "outputs": [],
   "source": [
    "def validate_dataframe_model(df: pd.DataFrame, df_model: pa.DataFrameModel, msg: str) -> pd.DataFrame:\n",
    "    try:\n",
    "        print(msg, '...', sep='')\n",
    "        validated_df = df_model.validate(df)\n",
    "        print(msg, '...OK', sep='')\n",
    "        return(validated_df)\n",
    "    except pa.errors.SchemaError as e:\n",
    "        print(msg, '...FAILED =>', sep='')\n",
    "        print(\"****************************************\")\n",
    "        print(e)\n",
    "        print(\"****************************************\")"
   ]
  },
  {
   "cell_type": "markdown",
   "metadata": {},
   "source": [
    "#### II.2.c Validate the data"
   ]
  },
  {
   "cell_type": "code",
   "execution_count": 22,
   "metadata": {},
   "outputs": [
    {
     "name": "stdout",
     "output_type": "stream",
     "text": [
      "Validating super_regions...\n",
      "Validating super_regions...OK\n"
     ]
    },
    {
     "data": {
      "text/html": [
       "<div>\n",
       "<style scoped>\n",
       "    .dataframe tbody tr th:only-of-type {\n",
       "        vertical-align: middle;\n",
       "    }\n",
       "\n",
       "    .dataframe tbody tr th {\n",
       "        vertical-align: top;\n",
       "    }\n",
       "\n",
       "    .dataframe thead th {\n",
       "        text-align: right;\n",
       "    }\n",
       "</style>\n",
       "<table border=\"1\" class=\"dataframe\">\n",
       "  <thead>\n",
       "    <tr style=\"text-align: right;\">\n",
       "      <th></th>\n",
       "      <th>super_region</th>\n",
       "    </tr>\n",
       "  </thead>\n",
       "  <tbody>\n",
       "    <tr>\n",
       "      <th>0</th>\n",
       "      <td>Upstate</td>\n",
       "    </tr>\n",
       "    <tr>\n",
       "      <th>1</th>\n",
       "      <td>Downstate</td>\n",
       "    </tr>\n",
       "  </tbody>\n",
       "</table>\n",
       "</div>"
      ],
      "text/plain": [
       "  super_region\n",
       "0      Upstate\n",
       "1    Downstate"
      ]
     },
     "execution_count": 22,
     "metadata": {},
     "output_type": "execute_result"
    }
   ],
   "source": [
    "validated_super_regions = validate_dataframe_model(super_regions, SuperRegionsDataFrameModel, \"Validating super_regions\")\n",
    "validated_super_regions.head()"
   ]
  },
  {
   "cell_type": "code",
   "execution_count": 23,
   "metadata": {},
   "outputs": [
    {
     "name": "stdout",
     "output_type": "stream",
     "text": [
      "Validating regions...\n",
      "Validating regions...OK\n"
     ]
    },
    {
     "data": {
      "text/html": [
       "<div>\n",
       "<style scoped>\n",
       "    .dataframe tbody tr th:only-of-type {\n",
       "        vertical-align: middle;\n",
       "    }\n",
       "\n",
       "    .dataframe tbody tr th {\n",
       "        vertical-align: top;\n",
       "    }\n",
       "\n",
       "    .dataframe thead th {\n",
       "        text-align: right;\n",
       "    }\n",
       "</style>\n",
       "<table border=\"1\" class=\"dataframe\">\n",
       "  <thead>\n",
       "    <tr style=\"text-align: right;\">\n",
       "      <th></th>\n",
       "      <th>region</th>\n",
       "      <th>super_region</th>\n",
       "    </tr>\n",
       "  </thead>\n",
       "  <tbody>\n",
       "    <tr>\n",
       "      <th>0</th>\n",
       "      <td>Capital</td>\n",
       "      <td>Upstate</td>\n",
       "    </tr>\n",
       "    <tr>\n",
       "      <th>1</th>\n",
       "      <td>Central</td>\n",
       "      <td>Upstate</td>\n",
       "    </tr>\n",
       "    <tr>\n",
       "      <th>2</th>\n",
       "      <td>Dunwoodie</td>\n",
       "      <td>Upstate</td>\n",
       "    </tr>\n",
       "    <tr>\n",
       "      <th>3</th>\n",
       "      <td>Genesee</td>\n",
       "      <td>Upstate</td>\n",
       "    </tr>\n",
       "    <tr>\n",
       "      <th>4</th>\n",
       "      <td>Hudson Valley</td>\n",
       "      <td>Downstate</td>\n",
       "    </tr>\n",
       "  </tbody>\n",
       "</table>\n",
       "</div>"
      ],
      "text/plain": [
       "          region super_region\n",
       "0        Capital      Upstate\n",
       "1        Central      Upstate\n",
       "2      Dunwoodie      Upstate\n",
       "3        Genesee      Upstate\n",
       "4  Hudson Valley    Downstate"
      ]
     },
     "execution_count": 23,
     "metadata": {},
     "output_type": "execute_result"
    }
   ],
   "source": [
    "validated_regions = validate_dataframe_model(regions, RegionsDataFrameModel, \"Validating regions\")\n",
    "validated_regions.head()"
   ]
  },
  {
   "cell_type": "code",
   "execution_count": 24,
   "metadata": {},
   "outputs": [
    {
     "name": "stdout",
     "output_type": "stream",
     "text": [
      "Validating load_data...\n",
      "Validating load_data...FAILED =>\n",
      "****************************************\n",
      "non-nullable series 'load' contains null values:\n",
      "41      NaN\n",
      "47      NaN\n",
      "75      NaN\n",
      "132     NaN\n",
      "223     NaN\n",
      "         ..\n",
      "17373   NaN\n",
      "17486   NaN\n",
      "17631   NaN\n",
      "17843   NaN\n",
      "18211   NaN\n",
      "Name: load, Length: 398, dtype: float64\n",
      "****************************************\n"
     ]
    }
   ],
   "source": [
    "validated_power_load = validate_dataframe_model(power_load, PowerLoadDataFrameModel, \"Validating load_data\")"
   ]
  },
  {
   "cell_type": "markdown",
   "metadata": {},
   "source": [
    "Same as before: the validation **fails** due to null values.  \n",
    "\n",
    "Validate again with: power_load_no_NAs."
   ]
  },
  {
   "cell_type": "code",
   "execution_count": 25,
   "metadata": {},
   "outputs": [
    {
     "name": "stdout",
     "output_type": "stream",
     "text": [
      "Validating power_load_no_NAs...\n",
      "Validating power_load_no_NAs...FAILED =>\n",
      "****************************************\n",
      "Column 'load' failed element-wise validator number 0: greater_than(0) failure cases: -10953.3650572372, -18691.4685346976, -20877.2361447536, -24327.9417834871, -8131.50693110981, -14596.6955819775, -4068.32223664545, -9312.78214695918, -14656.4075716635, -5426.63989076665, -1728.57859662086, -13960.6625610962, -1652.15154619529, -3364.33682026991, -2143.82004485823, -8601.85849590299, -7848.73712505549, -2399.54324270216, -3805.30752932024, -1848.30533380647, -2976.88738208294, -11216.5685038337, -407.73131766232, -7785.16881659046, -2586.8434567858, -784.655206493677, -6015.13141964274, -6310.4687102185, -2286.80814656715, -26010.7894310697, -11099.8920933817, -13017.9062438803\n",
      "****************************************\n"
     ]
    }
   ],
   "source": [
    "validated_power_load = validate_dataframe_model(power_load_no_NAs, PowerLoadDataFrameModel, \"Validating power_load_no_NAs\")"
   ]
  },
  {
   "cell_type": "markdown",
   "metadata": {},
   "source": [
    "Same as before: the validation **fails again** due to negative values.  \n",
    "\n",
    "Validate again with: power_load_no_NAs_no_nagatives"
   ]
  },
  {
   "cell_type": "code",
   "execution_count": 26,
   "metadata": {},
   "outputs": [
    {
     "name": "stdout",
     "output_type": "stream",
     "text": [
      "Validating power_load_no_NAs_no_negatives...\n",
      "Validating power_load_no_NAs_no_negatives...OK\n"
     ]
    }
   ],
   "source": [
    "validated_power_load = validate_dataframe_model(power_load_no_NAs_no_negatives, PowerLoadDataFrameModel, \"Validating power_load_no_NAs_no_negatives\")"
   ]
  }
 ],
 "metadata": {
  "kernelspec": {
   "display_name": ".venv",
   "language": "python",
   "name": "python3"
  },
  "language_info": {
   "codemirror_mode": {
    "name": "ipython",
    "version": 3
   },
   "file_extension": ".py",
   "mimetype": "text/x-python",
   "name": "python",
   "nbconvert_exporter": "python",
   "pygments_lexer": "ipython3",
   "version": "3.11.2"
  }
 },
 "nbformat": 4,
 "nbformat_minor": 2
}
